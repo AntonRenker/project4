{
 "cells": [
  {
   "cell_type": "code",
   "execution_count": 12,
   "metadata": {},
   "outputs": [],
   "source": [
    "import numpy as np"
   ]
  },
  {
   "cell_type": "code",
   "execution_count": 81,
   "id": "ddb44bad",
   "metadata": {},
   "outputs": [],
   "source": [
    "%run environment.py\n",
    "%run actionValueFunction.py"
   ]
  },
  {
   "cell_type": "code",
   "execution_count": null,
   "id": "ecbb322f",
   "metadata": {},
   "outputs": [],
   "source": [
    "Q = ActionValueFunction(input_size=num_rows*num_cols + 1, output_size=num_cols)"
   ]
  },
  {
   "cell_type": "code",
   "execution_count": 82,
   "id": "36853580",
   "metadata": {},
   "outputs": [],
   "source": [
    "num_rows = 4\n",
    "num_cols = 5\n",
    "num_wins = 3\n",
    "env = Environment(num_rows, num_cols, num_wins)"
   ]
  },
  {
   "cell_type": "code",
   "execution_count": 88,
   "id": "ea651196",
   "metadata": {},
   "outputs": [
    {
     "data": {
      "text/plain": [
       "array([0., 0., 0., 0., 0., 0., 0., 0., 0., 0., 0., 0., 0., 0., 0., 0., 0.,\n",
       "       0., 0., 0.])"
      ]
     },
     "execution_count": 88,
     "metadata": {},
     "output_type": "execute_result"
    }
   ],
   "source": [
    "env.reset()"
   ]
  },
  {
   "cell_type": "code",
   "execution_count": 93,
   "id": "3ac2e921",
   "metadata": {},
   "outputs": [
    {
     "name": "stdout",
     "output_type": "stream",
     "text": [
      "1 True\n",
      "|   |   |   |   |\n",
      "|   |   |   |   |\n",
      "|   | O | X |   |\n",
      "| O | X | X |   |\n",
      "| X | X | O | O |\n",
      "-----------------\n"
     ]
    }
   ],
   "source": [
    "_, reward, done = env.step(action = 2, player=1, Q=Q)\n",
    "print(reward, done)\n",
    "env.render()"
   ]
  },
  {
   "cell_type": "code",
   "execution_count": 79,
   "id": "2b98964c",
   "metadata": {},
   "outputs": [
    {
     "name": "stdout",
     "output_type": "stream",
     "text": [
      "1 True\n"
     ]
    }
   ],
   "source": []
  },
  {
   "cell_type": "code",
   "execution_count": 59,
   "id": "91c1152c",
   "metadata": {},
   "outputs": [
    {
     "data": {
      "text/plain": [
       "array([ 1.,  0., -1.,  0., -1.,  0.,  0.,  0.,  1.,  0.,  0.,  0., -1.,\n",
       "        0.,  0.,  0.,  1.,  0.,  0.,  0.])"
      ]
     },
     "execution_count": 59,
     "metadata": {},
     "output_type": "execute_result"
    }
   ],
   "source": [
    "env.board"
   ]
  },
  {
   "cell_type": "code",
   "execution_count": 47,
   "id": "8b784ee5",
   "metadata": {},
   "outputs": [
    {
     "name": "stdout",
     "output_type": "stream",
     "text": [
      "[[1. 0. 0. 0. 0. 0. 0. 0. 0. 0. 0. 0. 0. 0. 0. 0. 0. 0. 0. 0. 1.]]\n"
     ]
    }
   ],
   "source": [
    "state_action = np.concatenate((board, [1])).reshape(1, -1)\n",
    "print(state_action)"
   ]
  },
  {
   "cell_type": "code",
   "execution_count": null,
   "id": "1833917d",
   "metadata": {},
   "outputs": [],
   "source": []
  }
 ],
 "metadata": {
  "kernelspec": {
   "display_name": "Python 3",
   "language": "python",
   "name": "python3"
  },
  "language_info": {
   "codemirror_mode": {
    "name": "ipython",
    "version": 3
   },
   "file_extension": ".py",
   "mimetype": "text/x-python",
   "name": "python",
   "nbconvert_exporter": "python",
   "pygments_lexer": "ipython3",
   "version": "3.11.3"
  }
 },
 "nbformat": 4,
 "nbformat_minor": 5
}
